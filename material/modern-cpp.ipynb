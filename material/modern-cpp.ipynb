{
 "cells": [
  {
   "cell_type": "markdown",
   "id": "c7fa1751",
   "metadata": {},
   "source": [
    "# Modern C++"
   ]
  },
  {
   "cell_type": "markdown",
   "id": "1b7837bc",
   "metadata": {
    "jp-MarkdownHeadingCollapsed": true,
    "tags": []
   },
   "source": [
    "## Level 0: Hello World"
   ]
  },
  {
   "cell_type": "markdown",
   "id": "a1a20d50",
   "metadata": {},
   "source": [
    "We start with a serial CPU code printing a range of numbers:"
   ]
  },
  {
   "cell_type": "markdown",
   "id": "0e03ebb6",
   "metadata": {},
   "source": [
    "```cpp\n",
    "for (size_t i0 = 0; i0 < nx; ++i0) {\n",
    "    printf(\"%ld\\n\", i0);\n",
    "}\n",
    "```"
   ]
  },
  {
   "cell_type": "markdown",
   "id": "e970a674",
   "metadata": {},
   "source": [
    "The full example is available in [print-numbers-base.cpp](../src/print-numbers/print-numbers-base.cpp), and can be compiled and executed using the following cells."
   ]
  },
  {
   "cell_type": "code",
   "execution_count": null,
   "id": "6e1926a9",
   "metadata": {},
   "outputs": [],
   "source": [
    "!g++ -O3 -march=native -std=c++17 -o ../build/print-numbers/print-numbers-base ../src/print-numbers/print-numbers-base.cpp"
   ]
  },
  {
   "cell_type": "code",
   "execution_count": null,
   "id": "748e9875",
   "metadata": {},
   "outputs": [],
   "source": [
    "!../build/print-numbers/print-numbers-base"
   ]
  },
  {
   "cell_type": "markdown",
   "id": "701de09d",
   "metadata": {},
   "source": [
    "This simple loop-based example does not work well with modern C++ and its GPU offloading capabilities.\n",
    "The first step is rewriting it using STL algorithms."
   ]
  },
  {
   "cell_type": "markdown",
   "id": "e0c2219d",
   "metadata": {},
   "source": [
    "For this simple application, the `for_each` pattern is suitable.\n",
    "It applies an operation to each *input element* (and does not return or store anything).\n",
    "Using this pattern can be done a number of different ways."
   ]
  },
  {
   "cell_type": "markdown",
   "id": "f96b3252",
   "metadata": {},
   "source": [
    "**1.** Setting up a container with the number of elements equal to the number of iterations in the original loop, and assigning each element its index.\n",
    "This increases the memory footprint and requires memory management (see below)."
   ]
  },
  {
   "cell_type": "markdown",
   "id": "fa17392f",
   "metadata": {},
   "source": [
    "**2.** Using C++ [ranges](https://en.cppreference.com/w/cpp/ranges).\n",
    "Compiler support is not yet ideal, especially on GPUs.\n",
    "A possible implementation could look similar to this snippet:\n",
    "\n",
    "```cpp\n",
    "auto indices = std::ranges::iota_view{0, nx};\n",
    "std::for_each(indices.begin(), indices.end(),\n",
    "              [=](const auto &i0) {\n",
    "                printf(\"%ld\\n\", i0);\n",
    "              });\n",
    "```"
   ]
  },
  {
   "cell_type": "markdown",
   "id": "82ba18cd",
   "metadata": {},
   "source": [
    "**3.** Reconstruct the index using pointer arithmetic. While this breaks some concepts, it is a robust way that works for many applications.\n",
    "\n",
    "```cpp\n",
    "int* ptr = 0;\n",
    "std::for_each(std::execution::par_unseq, ptr, ptr + nx,\n",
    "              [=](const auto &p) {\n",
    "                size_t i0 = &p - ptr;\n",
    "                printf(\"%ld\\n\", i0);\n",
    "              });\n",
    "```"
   ]
  },
  {
   "cell_type": "markdown",
   "id": "69471154",
   "metadata": {},
   "source": [
    "**4.** Use a thrust `counting_iterator` (also available on AMD via *rocThrust*). Fully switching to [thrust](thrust.ipynb) might be a suitable alternative in this case.\n",
    "\n",
    "```cpp\n",
    "std::for_each(thrust::make_counting_iterator<size_t>(0), thrust::make_counting_iterator<size_t>(nx),\n",
    "              [=](const auto &i0) {\n",
    "                printf(\"%ld\\n\", i0);\n",
    "              });\n",
    "```"
   ]
  },
  {
   "cell_type": "markdown",
   "id": "528f5335",
   "metadata": {},
   "source": [
    "**Offloading**\n",
    "\n",
    "In any case, many STL algorithms can be parallelized by providing an *execution policy*.\n",
    "GPU offloading can then be enabled via compiler arguments.\n",
    "\n",
    "```cpp\n",
    "int* ptr = 0;\n",
    "std::for_each(std::execution::par_unseq, ptr, ptr + nx,\n",
    "              [=](const auto &p) {\n",
    "                size_t i0 = &p - ptr;\n",
    "                printf(\"%ld\\n\", i0);\n",
    "              });\n",
    "```\n",
    "\n",
    "All algorithm executions are synchronous with respect to the CPU, e.g. no explicit GPU synchronization is necessary."
   ]
  },
  {
   "cell_type": "markdown",
   "id": "0c6a23c6",
   "metadata": {},
   "source": [
    "The complete example code is available in [print-numbers-std-par.cpp](../src/print-numbers/print-numbers-std-par.cpp).\n",
    "Build and execute it using the following cells."
   ]
  },
  {
   "cell_type": "code",
   "execution_count": null,
   "id": "894e9b02",
   "metadata": {},
   "outputs": [],
   "source": [
    "!nvc++ -O3 -std=c++17 -stdpar=gpu -target=gpu -gpu=cc86 -o ../build/print-numbers/print-numbers-std-par ../src/print-numbers/print-numbers-std-par.cpp"
   ]
  },
  {
   "cell_type": "code",
   "execution_count": null,
   "id": "beec42a1",
   "metadata": {},
   "outputs": [],
   "source": [
    "!../build/print-numbers/print-numbers-std-par"
   ]
  },
  {
   "cell_type": "markdown",
   "id": "60af6a43",
   "metadata": {
    "jp-MarkdownHeadingCollapsed": true,
    "tags": []
   },
   "source": [
    "## Level 1: Adding Managed Memory"
   ]
  },
  {
   "cell_type": "markdown",
   "id": "6b6b0a6e",
   "metadata": {},
   "source": [
    "Our next application is increasing all elements of an array by one."
   ]
  },
  {
   "cell_type": "markdown",
   "id": "43501576",
   "metadata": {},
   "source": [
    "[increase-base.cpp](../src/increase/increase-base.cpp) shows a serial CPU-only implementation.\n",
    "Its key part and our entry point is the increase function.\n",
    "\n",
    "```cpp\n",
    "void increase(double* data, size_t nx) {\n",
    "    for (size_t i0 = 0; i0 < nx; ++i0) {\n",
    "        data[i0] += 1;\n",
    "    }\n",
    "}\n",
    "```"
   ]
  },
  {
   "cell_type": "markdown",
   "id": "0de60ca7",
   "metadata": {},
   "source": [
    "The modern C++ approach uses managed memory by default, no additional compiler flags are necessary.\n",
    "For this particular application, using `for_each` with index reconstruction works well enough.\n",
    "The `transform` pattern might be a better fit however.\n",
    "\n",
    "```cpp\n",
    "std::transform(std::execution::par_unseq, data, data + nx, data,\n",
    "               [=](auto data_item) {\n",
    "                   return data_item + 1;\n",
    "               }); // implicit synchronization\n",
    "```"
   ]
  },
  {
   "cell_type": "markdown",
   "id": "2f0ba179",
   "metadata": {},
   "source": [
    "The complete example code is available in [increase-std-par.cpp](../src/increase/increase-std-par.cpp).\n",
    "Build and execute it using the following cells."
   ]
  },
  {
   "cell_type": "code",
   "execution_count": null,
   "id": "cc289aba",
   "metadata": {},
   "outputs": [],
   "source": [
    "!nvc++ -O3 -std=c++17 -stdpar=gpu -target=gpu -gpu=cc86 -o ../build/increase/increase-std-par ../src/increase/increase-std-par.cpp"
   ]
  },
  {
   "cell_type": "code",
   "execution_count": null,
   "id": "487c203e",
   "metadata": {},
   "outputs": [],
   "source": [
    "!../build/increase/increase-std-par"
   ]
  },
  {
   "cell_type": "markdown",
   "id": "5ff69508",
   "metadata": {
    "jp-MarkdownHeadingCollapsed": true,
    "tags": []
   },
   "source": [
    "## Level 2: Switching to Explicit Memory Management"
   ]
  },
  {
   "cell_type": "markdown",
   "id": "be75930b",
   "metadata": {},
   "source": [
    "Using explicit memory management techniques is not possible with this approach.\n",
    "One alternative is using functionalities from [thrust](thrust.ipynb)."
   ]
  }
 ],
 "metadata": {
  "kernelspec": {
   "display_name": "Python 3 (ipykernel)",
   "language": "python",
   "name": "python3"
  },
  "language_info": {
   "codemirror_mode": {
    "name": "ipython",
    "version": 3
   },
   "file_extension": ".py",
   "mimetype": "text/x-python",
   "name": "python",
   "nbconvert_exporter": "python",
   "pygments_lexer": "ipython3",
   "version": "3.13.5"
  }
 },
 "nbformat": 4,
 "nbformat_minor": 5
}
