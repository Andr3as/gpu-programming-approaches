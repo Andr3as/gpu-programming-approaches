{
 "cells": [
  {
   "cell_type": "markdown",
   "id": "c7fa1751",
   "metadata": {},
   "source": [
    "# Thrust"
   ]
  },
  {
   "cell_type": "markdown",
   "id": "1b7837bc",
   "metadata": {
    "jp-MarkdownHeadingCollapsed": true,
    "tags": []
   },
   "source": [
    "## Level 0: Hello World"
   ]
  },
  {
   "cell_type": "markdown",
   "id": "a1a20d50",
   "metadata": {},
   "source": [
    "We start with a serial CPU code printing a range of numbers:"
   ]
  },
  {
   "cell_type": "markdown",
   "id": "0e03ebb6",
   "metadata": {},
   "source": [
    "```cpp\n",
    "for (size_t i0 = 0; i0 < nx; ++i0) {\n",
    "    printf(\"%ld\\n\", i0);\n",
    "}\n",
    "```"
   ]
  },
  {
   "cell_type": "markdown",
   "id": "e970a674",
   "metadata": {},
   "source": [
    "The full example is available in [print-numbers-base.cpp](../src/print-numbers/print-numbers-base.cpp), and can be compiled and executed using the following cells."
   ]
  },
  {
   "cell_type": "code",
   "execution_count": null,
   "id": "6e1926a9",
   "metadata": {},
   "outputs": [],
   "source": [
    "!g++ -O3 -march=native -std=c++17 -o ../build/print-numbers/print-numbers-base ../src/print-numbers/print-numbers-base.cpp"
   ]
  },
  {
   "cell_type": "code",
   "execution_count": null,
   "id": "748e9875",
   "metadata": {},
   "outputs": [],
   "source": [
    "!../build/print-numbers/print-numbers-base"
   ]
  },
  {
   "cell_type": "markdown",
   "id": "93d03218",
   "metadata": {},
   "source": [
    "For more control and support for additional computational patterns, Thrust is a strong alternative over 'standard' modern C++.\n",
    "\n",
    "It provides GPU-accelerated versions of many STL algorithms, as well as additional ones.\n",
    "Thrust algorithms also accept an *execution policy* argument, which specifies *where* the computation should be performed (note the difference to `std::execution`).\n",
    "\n",
    "```cpp\n",
    "thrust::for_each(thrust::device, thrust::make_counting_iterator<size_t>(0), thrust::make_counting_iterator<size_t>(nx),\n",
    "                 [=] __device__ (const auto &i0) {\n",
    "                    printf(\"%ld\\n\", i0);\n",
    "                 });\n",
    "```\n",
    "\n",
    "As with STL algorithms, Thrust counterparts are synchronous with respect to the CPU, e.g. no explicit GPU synchronization is necessary."
   ]
  },
  {
   "cell_type": "markdown",
   "id": "4dad36f6",
   "metadata": {},
   "source": [
    "The complete example code is available in [print-numbers-thrust.cu](../src/print-numbers/print-numbers-thrust.cu).\n",
    "Build and execute them using the following cells."
   ]
  },
  {
   "cell_type": "code",
   "execution_count": null,
   "id": "d9a1d131",
   "metadata": {},
   "outputs": [],
   "source": [
    "!nvcc -O3 -std=c++17 --extended-lambda -arch=sm_86 -o ../build/print-numbers/print-numbers-thrust ../src/print-numbers/print-numbers-thrust.cu"
   ]
  },
  {
   "cell_type": "code",
   "execution_count": null,
   "id": "7544ff16",
   "metadata": {},
   "outputs": [],
   "source": [
    "!../build/print-numbers/print-numbers-thrust"
   ]
  },
  {
   "cell_type": "markdown",
   "id": "60af6a43",
   "metadata": {
    "jp-MarkdownHeadingCollapsed": true,
    "tags": []
   },
   "source": [
    "## Level 1: Adding Managed Memory"
   ]
  },
  {
   "cell_type": "markdown",
   "id": "6b6b0a6e",
   "metadata": {},
   "source": [
    "Our next application is increasing all elements of an array by one."
   ]
  },
  {
   "cell_type": "markdown",
   "id": "43501576",
   "metadata": {},
   "source": [
    "[increase-base.cpp](../src/increase/increase-base.cpp) shows a serial CPU-only implementation.\n",
    "Its key part and our entry point is the increase function.\n",
    "\n",
    "```cpp\n",
    "void increase(double* data, size_t nx) {\n",
    "    for (size_t i0 = 0; i0 < nx; ++i0) {\n",
    "        data[i0] += 1;\n",
    "    }\n",
    "}\n",
    "```"
   ]
  },
  {
   "cell_type": "markdown",
   "id": "0c23cf95",
   "metadata": {},
   "source": [
    "Thrust provides GPU-aware C++ containers as alternatives to raw pointers.\n",
    "Like Thrust's algorithms, they closely mirroring the STL API."
   ]
  },
  {
   "cell_type": "markdown",
   "id": "9f325f56",
   "metadata": {},
   "source": [
    "`universal_vector` relies on allocations of managed memory.\n",
    "\n",
    "```cpp\n",
    "thrust::universal_vector<double> data(nx);\n",
    "```\n",
    "\n",
    "De-allocation is done implicitly when the destructor of the container is called."
   ]
  },
  {
   "cell_type": "markdown",
   "id": "e8cc82dc",
   "metadata": {},
   "source": [
    "The parallelized computation can be implemented in different ways."
   ]
  },
  {
   "cell_type": "markdown",
   "id": "a2d93817",
   "metadata": {},
   "source": [
    "**1.** With a transform operation\n",
    "\n",
    "```cpp\n",
    "thrust::transform(thrust::device, data.begin(), data.end(), data.begin(),\n",
    "                  [=] __host__ __device__ (double data_elem) {\n",
    "                      return data_elem + 1;\n",
    "                  }); // implicit synchronization\n",
    "```"
   ]
  },
  {
   "cell_type": "markdown",
   "id": "cf6d4a6b",
   "metadata": {},
   "source": [
    "**2.** With a counting iterator\n",
    "\n",
    "```cpp\n",
    "double *data_ptr = thrust::raw_pointer_cast(data.data());\n",
    "thrust::for_each(thrust::device, thrust::make_counting_iterator<size_t>(0), thrust::make_counting_iterator<size_t>(nx),\n",
    "                 [=] __host__ __device__ (size_t i0) {\n",
    "                     data_ptr[i0] += 1;\n",
    "                 });\n",
    "```"
   ]
  },
  {
   "cell_type": "markdown",
   "id": "affb464c",
   "metadata": {},
   "source": [
    "**3.** With tabulate\n",
    "\n",
    "Going beyond the capabilities of the STL, Thrust provides the `tabulate` pattern.\n",
    "It applies a transformation to the *index* of each element and stores the result in-place.\n",
    "\n",
    "```cpp\n",
    "double *data_ptr = thrust::raw_pointer_cast(data.data());\n",
    "thrust::tabulate(thrust::device, data.begin(), data.end(),\n",
    "                 [=] __host__ __device__ (size_t i0) {\n",
    "                     return data_ptr[i0] + 1;\n",
    "                 });\n",
    "```"
   ]
  },
  {
   "cell_type": "markdown",
   "id": "75cd6990",
   "metadata": {},
   "source": [
    "The complete example code is available in [increase-thrust-mm.cu](../src/increase/increase-thrust-mm.cu), and can be built and executed using the following cells."
   ]
  },
  {
   "cell_type": "code",
   "execution_count": null,
   "id": "f0916ff7",
   "metadata": {},
   "outputs": [],
   "source": [
    "!nvcc -O3 -std=c++17 --extended-lambda -arch=sm_86 -o ../build/increase/increase-thrust-mm ../src/increase/increase-thrust-mm.cu"
   ]
  },
  {
   "cell_type": "code",
   "execution_count": null,
   "id": "ee2ea8f7",
   "metadata": {},
   "outputs": [],
   "source": [
    "!../build/increase/increase-thrust-mm "
   ]
  },
  {
   "cell_type": "markdown",
   "id": "5ff69508",
   "metadata": {
    "jp-MarkdownHeadingCollapsed": true,
    "tags": []
   },
   "source": [
    "## Level 2: Switching to Explicit Memory Management"
   ]
  },
  {
   "cell_type": "markdown",
   "id": "e4d88b75",
   "metadata": {},
   "source": [
    "Host and device data can be allocated similarly to `std::vector`.\n",
    "\n",
    "```cpp\n",
    "thrust::host_vector<double> data(nx);\n",
    "thrust::device_vector<double> d_data(nx);\n",
    "```\n",
    "\n",
    "De-allocation is done implicitly when the destructor of the container is called.\n",
    "\n",
    "Copying data between host and device is available via (synchronous) copy functions.\n",
    "\n",
    "```cpp\n",
    "thrust::copy(data.begin(), data.end(),\n",
    "             d_data.begin());\n",
    "```"
   ]
  },
  {
   "cell_type": "markdown",
   "id": "62c02c51",
   "metadata": {},
   "source": [
    "The complete example code is available in [increase-thrust-expl.cu](../src/increase/increase-thrust-expl.cu).\n",
    "Build and execute it using the following cells."
   ]
  },
  {
   "cell_type": "code",
   "execution_count": null,
   "id": "6a79b1be",
   "metadata": {},
   "outputs": [],
   "source": [
    "!nvcc -O3 -std=c++17 --extended-lambda -arch=sm_86 -o ../build/increase/increase-thrust-expl ../src/increase/increase-thrust-expl.cu"
   ]
  },
  {
   "cell_type": "code",
   "execution_count": null,
   "id": "73315037",
   "metadata": {},
   "outputs": [],
   "source": [
    "!../build/increase/increase-thrust-expl "
   ]
  }
 ],
 "metadata": {
  "kernelspec": {
   "display_name": "Python 3 (ipykernel)",
   "language": "python",
   "name": "python3"
  },
  "language_info": {
   "codemirror_mode": {
    "name": "ipython",
    "version": 3
   },
   "file_extension": ".py",
   "mimetype": "text/x-python",
   "name": "python",
   "nbconvert_exporter": "python",
   "pygments_lexer": "ipython3",
   "version": "3.13.5"
  }
 },
 "nbformat": 4,
 "nbformat_minor": 5
}
