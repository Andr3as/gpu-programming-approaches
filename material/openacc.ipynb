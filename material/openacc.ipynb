{
 "cells": [
  {
   "cell_type": "markdown",
   "id": "c7fa1751",
   "metadata": {},
   "source": [
    "# OpenACC"
   ]
  },
  {
   "cell_type": "markdown",
   "id": "1b7837bc",
   "metadata": {
    "jp-MarkdownHeadingCollapsed": true,
    "tags": []
   },
   "source": [
    "## Level 0: Hello World"
   ]
  },
  {
   "cell_type": "markdown",
   "id": "a1a20d50",
   "metadata": {},
   "source": [
    "We start with a serial CPU code printing a range of numbers:"
   ]
  },
  {
   "cell_type": "markdown",
   "id": "0e03ebb6",
   "metadata": {},
   "source": [
    "```cpp\n",
    "for (size_t i0 = 0; i0 < nx; ++i0) {\n",
    "    printf(\"%ld\\n\", i0);\n",
    "}\n",
    "```"
   ]
  },
  {
   "cell_type": "markdown",
   "id": "e970a674",
   "metadata": {},
   "source": [
    "The full example is available in [print-numbers-base.cpp](../src/print-numbers/print-numbers-base.cpp), and can be compiled and executed using the following cells."
   ]
  },
  {
   "cell_type": "code",
   "execution_count": null,
   "id": "6e1926a9",
   "metadata": {},
   "outputs": [],
   "source": [
    "!g++ -O3 -march=native -std=c++17 -o ../build/print-numbers/print-numbers-base ../src/print-numbers/print-numbers-base.cpp"
   ]
  },
  {
   "cell_type": "code",
   "execution_count": null,
   "id": "748e9875",
   "metadata": {},
   "outputs": [],
   "source": [
    "!../build/print-numbers/print-numbers-base"
   ]
  },
  {
   "cell_type": "markdown",
   "id": "fc2a496b",
   "metadata": {},
   "source": [
    "OpenACC offers a similar approach to OpenMP target offloading, using `parallel` (to spawn threads) and `loop` (to distribute work).\n",
    "\n",
    "Whether execution occurs on the CPU or GPU is determined by compiler arguments.\n",
    "\n",
    "If not specified, the compiler chooses the number of gangs, workers, and vector size.\n",
    "\n",
    "```cpp\n",
    "#pragma acc parallel loop\n",
    "for (size_t i0 = 0; i0 < nx; ++i0) {\n",
    "    printf(\"%ld\\n\", i0);\n",
    "}   // implicit synchronization\n",
    "```"
   ]
  },
  {
   "cell_type": "markdown",
   "id": "26a0a10f",
   "metadata": {},
   "source": [
    "As with OpenMP, this code instructs the compiler to parallelize the loop - regardless of whether it is safe (e.g., in the presence of race conditions due to inter-iteration dependencies).\n",
    "Alternatively, `kernels` can be used to give the compiler more control.\n",
    "In this case, the compiler will:\n",
    "* Analyze dependencies and only parallelize loops without dependencies\n",
    "* Apply loop and kernel transformations, including fusion\n",
    "\n",
    "```cpp\n",
    "#pragma acc kernels\n",
    "{\n",
    "    for (size_t i0 = 0; i0 < nx; ++i0) {\n",
    "        printf(\"%ld\\n\", i0);\n",
    "    }\n",
    "    /* potentially more work */\n",
    "}\n",
    "```"
   ]
  },
  {
   "cell_type": "markdown",
   "id": "3fd59aff",
   "metadata": {},
   "source": [
    "The complete example code is available in [print-numbers-openacc.cpp](../src/print-numbers/print-numbers-openacc.cpp).\n",
    "Build and execute them using the following cells."
   ]
  },
  {
   "cell_type": "code",
   "execution_count": null,
   "id": "7e24f081",
   "metadata": {},
   "outputs": [],
   "source": [
    "!nvc++ -O3 -std=c++17 -acc=gpu -target=gpu -o ../build/print-numbers/print-numbers-openacc ../src/print-numbers/print-numbers-openacc.cpp"
   ]
  },
  {
   "cell_type": "code",
   "execution_count": null,
   "id": "4447c3c0",
   "metadata": {},
   "outputs": [],
   "source": [
    "!../build/print-numbers/print-numbers-openacc"
   ]
  },
  {
   "cell_type": "markdown",
   "id": "60af6a43",
   "metadata": {
    "jp-MarkdownHeadingCollapsed": true,
    "tags": []
   },
   "source": [
    "## Level 1: Adding Managed Memory"
   ]
  },
  {
   "cell_type": "markdown",
   "id": "6b6b0a6e",
   "metadata": {},
   "source": [
    "Our next application is increasing all elements of an array by one."
   ]
  },
  {
   "cell_type": "markdown",
   "id": "43501576",
   "metadata": {},
   "source": [
    "[increase-base.cpp](../src/increase/increase-base.cpp) shows a serial CPU-only implementation.\n",
    "Its key part and our entry point is the increase function.\n",
    "\n",
    "```cpp\n",
    "void increase(double* data, size_t nx) {\n",
    "    for (size_t i0 = 0; i0 < nx; ++i0) {\n",
    "        data[i0] += 1;\n",
    "    }\n",
    "}\n",
    "```"
   ]
  },
  {
   "cell_type": "markdown",
   "id": "1c902f63",
   "metadata": {},
   "source": [
    "As with OpenMP target offloading, the parallelization approach follows the previously discussed concepts.\n",
    "Support for managed memory is enabled by adding the `-gpu=mem:managed` compiler switch."
   ]
  },
  {
   "cell_type": "markdown",
   "id": "d38ba15a",
   "metadata": {},
   "source": [
    "The complete example code can be found in [increase-openacc-mm.cpp](../src/increase/increase-openacc-mm.cpp), and be built and executed with the following cells."
   ]
  },
  {
   "cell_type": "code",
   "execution_count": null,
   "id": "27a6ca09",
   "metadata": {},
   "outputs": [],
   "source": [
    "!nvc++ -O3 -std=c++17 -acc=gpu -target=gpu -gpu=mem:managed -o ../build/increase/increase-openacc-mm ../src/increase/increase-openacc-mm.cpp"
   ]
  },
  {
   "cell_type": "code",
   "execution_count": null,
   "id": "ddf1e3f2",
   "metadata": {},
   "outputs": [],
   "source": [
    "!../build/increase/increase-openacc-mm"
   ]
  },
  {
   "cell_type": "markdown",
   "id": "5ff69508",
   "metadata": {
    "jp-MarkdownHeadingCollapsed": true,
    "tags": []
   },
   "source": [
    "## Level 2: Switching to Explicit Memory Management"
   ]
  },
  {
   "cell_type": "markdown",
   "id": "7ef34c42",
   "metadata": {},
   "source": [
    "OpenACC follows the same principles as OpenMP for explicit data management, but does so with a slightly different syntax."
   ]
  },
  {
   "cell_type": "markdown",
   "id": "9d4d706e",
   "metadata": {},
   "source": [
    "```cpp\n",
    "#pragma acc enter data copyin (field[0:nx])\n",
    "#pragma acc exit  data copyout(field[0:nx])\n",
    "```"
   ]
  },
  {
   "cell_type": "markdown",
   "id": "d64ac46a",
   "metadata": {},
   "source": [
    "The complete example code is available in [increase-openacc-expl.cpp](../src/increase/increase-openacc-expl.cpp).\n",
    "Build and execute it using the following cells."
   ]
  },
  {
   "cell_type": "code",
   "execution_count": null,
   "id": "5cd29bfc",
   "metadata": {},
   "outputs": [],
   "source": [
    "!nvc++ -O3 -std=c++17 -acc=gpu -target=gpu -o ../build/increase/increase-openacc-expl ../src/increase/increase-openacc-expl.cpp"
   ]
  },
  {
   "cell_type": "code",
   "execution_count": null,
   "id": "9dd22440",
   "metadata": {},
   "outputs": [],
   "source": [
    "!../build/increase/increase-openacc-expl"
   ]
  }
 ],
 "metadata": {
  "kernelspec": {
   "display_name": "Python 3 (ipykernel)",
   "language": "python",
   "name": "python3"
  },
  "language_info": {
   "codemirror_mode": {
    "name": "ipython",
    "version": 3
   },
   "file_extension": ".py",
   "mimetype": "text/x-python",
   "name": "python",
   "nbconvert_exporter": "python",
   "pygments_lexer": "ipython3",
   "version": "3.13.5"
  }
 },
 "nbformat": 4,
 "nbformat_minor": 5
}
