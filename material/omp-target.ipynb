{
 "cells": [
  {
   "cell_type": "markdown",
   "id": "6decd9b7",
   "metadata": {},
   "source": [
    "# OpenMP"
   ]
  },
  {
   "cell_type": "markdown",
   "id": "1b7837bc",
   "metadata": {
    "jp-MarkdownHeadingCollapsed": true,
    "tags": []
   },
   "source": [
    "## Level 0: Hello World"
   ]
  },
  {
   "cell_type": "markdown",
   "id": "a1a20d50",
   "metadata": {},
   "source": [
    "We start with a serial CPU code printing a range of numbers:"
   ]
  },
  {
   "cell_type": "markdown",
   "id": "0e03ebb6",
   "metadata": {},
   "source": [
    "```cpp\n",
    "for (size_t i0 = 0; i0 < nx; ++i0) {\n",
    "    printf(\"%ld\\n\", i0);\n",
    "}\n",
    "```"
   ]
  },
  {
   "cell_type": "markdown",
   "id": "e970a674",
   "metadata": {},
   "source": [
    "The full example is available in [print-numbers-base.cpp](../src/print-numbers/print-numbers-base.cpp), and can be compiled and executed using the following cells."
   ]
  },
  {
   "cell_type": "code",
   "execution_count": null,
   "id": "6e1926a9",
   "metadata": {},
   "outputs": [],
   "source": [
    "!g++ -O3 -march=native -std=c++17 -o ../build/print-numbers/print-numbers-base ../src/print-numbers/print-numbers-base.cpp"
   ]
  },
  {
   "cell_type": "code",
   "execution_count": null,
   "id": "748e9875",
   "metadata": {},
   "outputs": [],
   "source": [
    "!../build/print-numbers/print-numbers-base"
   ]
  },
  {
   "cell_type": "markdown",
   "id": "69d13443",
   "metadata": {},
   "source": [
    "**1.** OpenMP enables code execution on GPUs by introducing *target regions*.\n",
    "\n",
    "```cpp\n",
    "#pragma omp target\n",
    "for (size_t i0 = 0; i0 < nx; ++i0) {\n",
    "    printf(\"%ld\\n\", i0);\n",
    "}\n",
    "```"
   ]
  },
  {
   "cell_type": "markdown",
   "id": "e23adf10",
   "metadata": {},
   "source": [
    "**2.** This code executes the loop on the GPU *serially*. To introduce parallelism, use `teams` and `parallel`."
   ]
  },
  {
   "cell_type": "markdown",
   "id": "0b42cceb",
   "metadata": {},
   "source": [
    "**3.** Loop iterations can be mapped to spawned threads using `distribute` and `for`.\n",
    "If not specified, the compiler chooses the number of teams and threads per team.\n",
    "\n",
    "```cpp\n",
    "#pragma omp target teams distribute parallel for\n",
    "for (size_t i0 = 0; i0 < nx; ++i0) {\n",
    "    printf(\"%ld\\n\", i0);\n",
    "}\n",
    "```"
   ]
  },
  {
   "cell_type": "markdown",
   "id": "23315455",
   "metadata": {},
   "source": [
    "**4.** Synchronization occurs implicitly at the end of the target region."
   ]
  },
  {
   "cell_type": "markdown",
   "id": "f90bdd2a",
   "metadata": {},
   "source": [
    "The complete example code can be found in [print-numbers-omp-target.cpp](../src/print-numbers/print-numbers-omp-target.cpp).\n",
    "Build and execute them using the following cells."
   ]
  },
  {
   "cell_type": "code",
   "execution_count": null,
   "id": "fbfad93b",
   "metadata": {},
   "outputs": [],
   "source": [
    "!nvc++ -O3 -std=c++17 -mp=gpu -target=gpu -o ../build/print-numbers/print-numbers-omp-target ../src/print-numbers/print-numbers-omp-target.cpp"
   ]
  },
  {
   "cell_type": "code",
   "execution_count": null,
   "id": "357ff9b0",
   "metadata": {},
   "outputs": [],
   "source": [
    "!../build/print-numbers/print-numbers-omp-target"
   ]
  },
  {
   "cell_type": "markdown",
   "id": "60af6a43",
   "metadata": {
    "jp-MarkdownHeadingCollapsed": true,
    "tags": []
   },
   "source": [
    "## Level 1: Adding Managed Memory"
   ]
  },
  {
   "cell_type": "markdown",
   "id": "6b6b0a6e",
   "metadata": {},
   "source": [
    "Our next application is increasing all elements of an array by one."
   ]
  },
  {
   "cell_type": "markdown",
   "id": "43501576",
   "metadata": {},
   "source": [
    "[increase-base.cpp](../src/increase/increase-base.cpp) shows a serial CPU-only implementation.\n",
    "Its key part and our entry point is the increase function.\n",
    "\n",
    "```cpp\n",
    "void increase(double* data, size_t nx) {\n",
    "    for (size_t i0 = 0; i0 < nx; ++i0) {\n",
    "        data[i0] += 1;\n",
    "    }\n",
    "}\n",
    "```"
   ]
  },
  {
   "cell_type": "markdown",
   "id": "e8cc82dc",
   "metadata": {},
   "source": [
    "Offloading and parallelization works as before:"
   ]
  },
  {
   "cell_type": "markdown",
   "id": "df42e8d1",
   "metadata": {},
   "source": [
    "```cpp\n",
    "#pragma omp target teams distribute parallel for\n",
    "for (size_t i0 = 0; i0 < nx; ++i0) {\n",
    "    data[i0] += 1;\n",
    "}\n",
    "```"
   ]
  },
  {
   "cell_type": "markdown",
   "id": "d275ece9",
   "metadata": {},
   "source": [
    "When using managed memory no further code changes are necessary.\n",
    "The only thing left to do is activating the support by adding the `-gpu=mem:managed` compiler option."
   ]
  },
  {
   "cell_type": "markdown",
   "id": "9cdf0cf8",
   "metadata": {},
   "source": [
    "The complete example code can be found in [increase-omp-target-mm.cpp](../src/increase/increase-omp-target-mm.cpp), and be built and executed with the following cells."
   ]
  },
  {
   "cell_type": "code",
   "execution_count": null,
   "id": "7630fcd6",
   "metadata": {},
   "outputs": [],
   "source": [
    "!nvc++ -O3 -std=c++17 -mp=gpu -target=gpu -gpu=mem:managed -o ../build/increase/increase-omp-target-mm ../src/increase/increase-omp-target-mm.cpp"
   ]
  },
  {
   "cell_type": "code",
   "execution_count": null,
   "id": "357e1b01",
   "metadata": {},
   "outputs": [],
   "source": [
    "!../build/increase/increase-omp-target-mm"
   ]
  },
  {
   "cell_type": "markdown",
   "id": "5ff69508",
   "metadata": {
    "jp-MarkdownHeadingCollapsed": true,
    "tags": []
   },
   "source": [
    "## Level 2: Switching to Explicit Memory Management"
   ]
  },
  {
   "cell_type": "markdown",
   "id": "be75930b",
   "metadata": {},
   "source": [
    "Switching from managed memory to explicit memory management requires the following changes and additions:"
   ]
  },
  {
   "cell_type": "markdown",
   "id": "c0d11643",
   "metadata": {},
   "source": [
    "OpenMP handles data staging, including (de-)allocation and transfers, via structured *target data* regions.\n",
    "Note that the data pointer has been renamed to `field` to avoid confusion."
   ]
  },
  {
   "cell_type": "markdown",
   "id": "b15af3a9",
   "metadata": {},
   "source": [
    "```cpp\n",
    "auto field = new double[nx];   // host allocation\n",
    "\n",
    "#pragma omp target data map(tofrom : field[0:nx])\n",
    "{ // device allocation and H2D transfer\n",
    "\n",
    "    /* ... */\n",
    "\n",
    "} // device de-allocation and D2H transfer\n",
    "\n",
    "delete[] field;                // host de-allocation\n",
    "```"
   ]
  },
  {
   "cell_type": "markdown",
   "id": "488e8776",
   "metadata": {},
   "source": [
    "For improved flexibility, unstructured primitives are also available."
   ]
  },
  {
   "cell_type": "markdown",
   "id": "f9c293a9",
   "metadata": {},
   "source": [
    "```cpp\n",
    "#pragma omp target enter data map(to   : field[0:nx])\n",
    "\n",
    "/* ... */\n",
    "\n",
    "#pragma omp target exit  data map(from : field[0:nx])\n",
    "```"
   ]
  },
  {
   "cell_type": "markdown",
   "id": "4576df96",
   "metadata": {},
   "source": [
    "The complete example code can be found in [increase-omp-target-expl.cpp](../src/increase/increase-omp-target-expl.cpp).\n",
    "Build and execute them using the following cells."
   ]
  },
  {
   "cell_type": "code",
   "execution_count": null,
   "id": "a4063cb3",
   "metadata": {},
   "outputs": [],
   "source": [
    "!nvc++ -O3 -std=c++17 -mp=gpu -target=gpu -o ../build/increase/increase-omp-target-expl ../src/increase/increase-omp-target-expl.cpp"
   ]
  },
  {
   "cell_type": "code",
   "execution_count": null,
   "id": "4336f18c",
   "metadata": {},
   "outputs": [],
   "source": [
    "!../build/increase/increase-omp-target-expl"
   ]
  }
 ],
 "metadata": {
  "kernelspec": {
   "display_name": "Python 3 (ipykernel)",
   "language": "python",
   "name": "python3"
  },
  "language_info": {
   "codemirror_mode": {
    "name": "ipython",
    "version": 3
   },
   "file_extension": ".py",
   "mimetype": "text/x-python",
   "name": "python",
   "nbconvert_exporter": "python",
   "pygments_lexer": "ipython3",
   "version": "3.13.5"
  }
 },
 "nbformat": 4,
 "nbformat_minor": 5
}
