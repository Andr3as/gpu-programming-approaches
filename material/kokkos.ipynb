{
 "cells": [
  {
   "cell_type": "markdown",
   "id": "c7fa1751",
   "metadata": {},
   "source": [
    "# Kokkos"
   ]
  },
  {
   "cell_type": "markdown",
   "id": "1b7837bc",
   "metadata": {
    "jp-MarkdownHeadingCollapsed": true,
    "tags": []
   },
   "source": [
    "## Level 0: Hello World"
   ]
  },
  {
   "cell_type": "markdown",
   "id": "a1a20d50",
   "metadata": {},
   "source": [
    "We start with a serial CPU code printing a range of numbers:"
   ]
  },
  {
   "cell_type": "markdown",
   "id": "0e03ebb6",
   "metadata": {},
   "source": [
    "```cpp\n",
    "for (size_t i0 = 0; i0 < nx; ++i0) {\n",
    "    printf(\"%ld\\n\", i0);\n",
    "}\n",
    "```"
   ]
  },
  {
   "cell_type": "markdown",
   "id": "e970a674",
   "metadata": {},
   "source": [
    "The full example is available in [print-numbers-base.cpp](../src/print-numbers/print-numbers-base.cpp), and can be compiled and executed using the following cells."
   ]
  },
  {
   "cell_type": "code",
   "execution_count": null,
   "id": "6e1926a9",
   "metadata": {},
   "outputs": [],
   "source": [
    "!g++ -O3 -march=native -std=c++17 -o ../build/print-numbers/print-numbers-base ../src/print-numbers/print-numbers-base.cpp"
   ]
  },
  {
   "cell_type": "code",
   "execution_count": null,
   "id": "748e9875",
   "metadata": {},
   "outputs": [],
   "source": [
    "!../build/print-numbers/print-numbers-base"
   ]
  },
  {
   "cell_type": "markdown",
   "id": "5c8054cf",
   "metadata": {},
   "source": [
    "Kokkos provides its own abstraction for parallel loops.\n",
    "Depending on how Kokkos is compiled, this will map to either CPU or GPU execution spaces.\n",
    "\n",
    "```cpp\n",
    "Kokkos::parallel_for(\n",
    "    Kokkos::RangePolicy<>(0, nx),\n",
    "        KOKKOS_LAMBDA(const size_t i0) {\n",
    "            printf(\"%ld\\n\", i0);\n",
    "        });\n",
    "```\n",
    "\n",
    "Tuning the thread hierarchy can be done by specifying an additional *team policy*."
   ]
  },
  {
   "cell_type": "markdown",
   "id": "fdd3b2f0",
   "metadata": {},
   "source": [
    "Synchronization with the GPU is *not* implicit.\n",
    "It can be triggered by calling:\n",
    "\n",
    "```cpp\n",
    "Kokkos::fence();\n",
    "```"
   ]
  },
  {
   "cell_type": "markdown",
   "id": "8e18d9ed",
   "metadata": {},
   "source": [
    "The complete example code is available in [print-numbers-kokkos.cpp](../src/print-numbers/print-numbers-kokkos.cpp).\n",
    "Build and execute it using the following cells."
   ]
  },
  {
   "cell_type": "code",
   "execution_count": null,
   "id": "5334355a",
   "metadata": {},
   "outputs": [],
   "source": [
    "!g++ -O3 -march=native -std=c++20 -I/root/kokkos/install-serial/include -L/root/kokkos/install-serial/lib -o ../build/print-numbers/print-numbers-kokkos-serial ../src/print-numbers/print-numbers-kokkos.cpp -lkokkoscore -ldl"
   ]
  },
  {
   "cell_type": "code",
   "execution_count": null,
   "id": "9d6685d6",
   "metadata": {},
   "outputs": [],
   "source": [
    "!../build/print-numbers/print-numbers-kokkos-serial"
   ]
  },
  {
   "cell_type": "code",
   "execution_count": null,
   "id": "e4e96b92",
   "metadata": {},
   "outputs": [],
   "source": [
    "!/root/kokkos/install-cuda/bin/nvcc_wrapper -O3 -march=native -std=c++20 -arch=sm_86 --expt-extended-lambda --expt-relaxed-constexpr -I/root/kokkos/install-cuda/include -L/root/kokkos/install-cuda/lib -o ../build/print-numbers/print-numbers-kokkos-cuda ../src/print-numbers/print-numbers-kokkos.cpp -lkokkoscore -ldl -lcuda"
   ]
  },
  {
   "cell_type": "code",
   "execution_count": null,
   "id": "07ff2eb1",
   "metadata": {},
   "outputs": [],
   "source": [
    "!../build/print-numbers/print-numbers-kokkos-cuda"
   ]
  },
  {
   "cell_type": "markdown",
   "id": "60af6a43",
   "metadata": {
    "jp-MarkdownHeadingCollapsed": true,
    "tags": []
   },
   "source": [
    "## Level 1: Handling GPU Memory"
   ]
  },
  {
   "cell_type": "markdown",
   "id": "6b6b0a6e",
   "metadata": {},
   "source": [
    "Our next application is increasing all elements of an array by one."
   ]
  },
  {
   "cell_type": "markdown",
   "id": "43501576",
   "metadata": {},
   "source": [
    "[increase-base.cpp](../src/increase/increase-base.cpp) shows a serial CPU-only implementation.\n",
    "Its key part and our entry point is the increase function.\n",
    "\n",
    "```cpp\n",
    "void increase(double* data, size_t nx) {\n",
    "    for (size_t i0 = 0; i0 < nx; ++i0) {\n",
    "        data[i0] += 1;\n",
    "    }\n",
    "}\n",
    "```"
   ]
  },
  {
   "cell_type": "markdown",
   "id": "daae1da9",
   "metadata": {},
   "source": [
    "Kokkos builds on allocations in memory spaces.\n",
    "Depending on the configuration during compilation, this defaults to device allocations (i.e. if GPU support is enabled).\n",
    "Host allocations can then be created as mirror views."
   ]
  },
  {
   "cell_type": "markdown",
   "id": "ce870482",
   "metadata": {},
   "source": [
    "```cpp\n",
    "{\n",
    "    // device allocation\n",
    "    Kokkos::View<double *> data(\"data\", nx);\n",
    "\n",
    "    // host allocation\n",
    "    auto h_data = Kokkos::create_mirror_view(data);\n",
    "} // implicit de-allocation\n",
    "```"
   ]
  },
  {
   "cell_type": "markdown",
   "id": "ddc0d8b9",
   "metadata": {},
   "source": [
    "`View` instances can then be used in kernels.\n",
    "Note the `()` access instead of the previously used `[]` access.\n",
    "\n",
    "```cpp\n",
    "Kokkos::parallel_for(\n",
    "    Kokkos::RangePolicy<>(0, nx),\n",
    "        KOKKOS_LAMBDA(const size_t i0) {\n",
    "            data(i0) += 1;\n",
    "        });\n",
    "```"
   ]
  },
  {
   "cell_type": "markdown",
   "id": "9c178252",
   "metadata": {},
   "source": [
    "The complete example code is available in [increase-kokkos.cpp](../src/increase/increase-kokkos.cpp).\n",
    "Build and execute it using the following cells."
   ]
  },
  {
   "cell_type": "code",
   "execution_count": null,
   "id": "f96c5966",
   "metadata": {},
   "outputs": [],
   "source": [
    "!g++ -O3 -march=native -std=c++20 -I/root/kokkos/install-serial/include -L/root/kokkos/install-serial/lib -o ../build/increase/increase-kokkos-serial ../src/increase/increase-kokkos.cpp -lkokkoscore -ldl"
   ]
  },
  {
   "cell_type": "code",
   "execution_count": null,
   "id": "06918f40",
   "metadata": {},
   "outputs": [],
   "source": [
    "!../build/increase/increase-kokkos-serial"
   ]
  },
  {
   "cell_type": "code",
   "execution_count": null,
   "id": "7da8a08b-ffae-4daf-9fe8-adc2855ccd2e",
   "metadata": {},
   "outputs": [],
   "source": [
    "!g++ -O3 -march=native -std=c++20 -fopenmp -I/root/kokkos/install-omp/include -L/root/kokkos/install-omp/lib -o ../build/increase/increase-kokkos-omp-host ../src/increase/increase-kokkos.cpp -lkokkoscore -ldl"
   ]
  },
  {
   "cell_type": "code",
   "execution_count": null,
   "id": "fbf234d9-2d2d-4023-85ba-cd862ed711c8",
   "metadata": {},
   "outputs": [],
   "source": [
    "!../build/increase/increase-kokkos-omp-host"
   ]
  },
  {
   "cell_type": "code",
   "execution_count": null,
   "id": "47dea84f",
   "metadata": {},
   "outputs": [],
   "source": [
    "!/root/kokkos/install-cuda/bin/nvcc_wrapper -O3 -march=native -std=c++20 -arch=sm_86 --expt-extended-lambda --expt-relaxed-constexpr -I/root/kokkos/install-cuda/include -L/root/kokkos/install-cuda/lib -o ../build/increase/increase-kokkos-cuda ../src/increase/increase-kokkos.cpp -lkokkoscore -ldl -lcuda"
   ]
  },
  {
   "cell_type": "code",
   "execution_count": null,
   "id": "2093660c",
   "metadata": {},
   "outputs": [],
   "source": [
    "!../build/increase/increase-kokkos-cuda"
   ]
  }
 ],
 "metadata": {
  "kernelspec": {
   "display_name": "Python 3 (ipykernel)",
   "language": "python",
   "name": "python3"
  },
  "language_info": {
   "codemirror_mode": {
    "name": "ipython",
    "version": 3
   },
   "file_extension": ".py",
   "mimetype": "text/x-python",
   "name": "python",
   "nbconvert_exporter": "python",
   "pygments_lexer": "ipython3",
   "version": "3.13.5"
  }
 },
 "nbformat": 4,
 "nbformat_minor": 5
}
