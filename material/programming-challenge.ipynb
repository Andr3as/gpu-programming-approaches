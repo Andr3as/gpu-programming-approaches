{
 "cells": [
  {
   "cell_type": "markdown",
   "id": "bb3898a8-2535-4cd4-8fd0-af62e001c17d",
   "metadata": {},
   "source": [
    "# Programming Challenge"
   ]
  },
  {
   "cell_type": "markdown",
   "id": "7d531bcb",
   "metadata": {},
   "source": [
    "Welcome to the final part of the course!\n",
    "This section will put your knowledge to the test with hands-on programming challenges designed to reinforce the concepts you've learned."
   ]
  },
  {
   "cell_type": "markdown",
   "id": "58eefbea-f23f-44dd-9826-84534e7e3ea8",
   "metadata": {},
   "source": [
    "This is the final part of the course.\n",
    "Many of the examples discussed are also available in the [Accelerate Programming EXamples (APEX)](https://github.com/SebastianKuckuk/apex/tree/main/src/benchmark) repository.\n",
    "If you get stuck, feel free to explore the repository for inspiration and guidance."
   ]
  },
  {
   "cell_type": "markdown",
   "id": "c6d52ef6-4ba8-421e-94cb-cb5007afd18c",
   "metadata": {},
   "source": [
    "## Level 0: Code Review"
   ]
  },
  {
   "cell_type": "markdown",
   "id": "fc14956e",
   "metadata": {},
   "source": [
    "Begin by reflecting on the different approaches covered in the course."
   ]
  },
  {
   "cell_type": "markdown",
   "id": "1cd9c6ac-4bb8-4a9c-b31a-e41cbf0d05e6",
   "metadata": {},
   "source": [
    "At this point, you might feel overwhelmed by the variety of concepts discussed.\n",
    "Take a moment to revisit the code examples for the *increase* example at `src/increase`.\n",
    "Then, select one or more approaches you would like to try in this challenge."
   ]
  },
  {
   "cell_type": "markdown",
   "id": "65d2cc67-569f-4511-8e2e-9fd4ffa05b66",
   "metadata": {},
   "source": [
    "## Level 1: Stream Benchmark"
   ]
  },
  {
   "cell_type": "markdown",
   "id": "169f42ac",
   "metadata": {},
   "source": [
    "Accelerate a simple vector copy benchmark as your first task."
   ]
  },
  {
   "cell_type": "markdown",
   "id": "2ea91789-3a37-47b7-9913-bd1685917818",
   "metadata": {},
   "source": [
    "We will start by accelerating a straightforward vector copy benchmark, similar to the previously discussed *increase* example.\n",
    "The main difference is that we now have two arrays, copying data between them in a ping-pong fashion.\n",
    "Each element is incremented by one in every iteration, allowing you to verify correctness."
   ]
  },
  {
   "cell_type": "markdown",
   "id": "68d40168-d6cc-4070-8cb8-54c51509bb15",
   "metadata": {},
   "source": [
    "A serial, CPU-only baseline implementation is provided in [stream.cpp](../src/stream/stream-base.cpp).\n",
    "As usual, you can compile and run it using the following cells."
   ]
  },
  {
   "cell_type": "code",
   "execution_count": null,
   "id": "c75dea85-5023-48b7-902e-ba4f236d2ecc",
   "metadata": {},
   "outputs": [],
   "source": [
    "!g++ -O3 -march=native -std=c++17 -o ../build/stream/stream-base ../src/stream/stream-base.cpp"
   ]
  },
  {
   "cell_type": "code",
   "execution_count": null,
   "id": "0dde77e6-2769-4c79-84ec-e9b09d5371ff",
   "metadata": {},
   "outputs": [],
   "source": [
    "!../build/stream/stream-base"
   ]
  },
  {
   "cell_type": "markdown",
   "id": "144f79c7-70b7-4126-8cb7-55e298d2196b",
   "metadata": {},
   "source": [
    "Start by copying the baseline file to a new file, for example using the following command."
   ]
  },
  {
   "cell_type": "code",
   "execution_count": null,
   "id": "f8a1dfb1-e605-4cd2-9007-d286ab173e47",
   "metadata": {},
   "outputs": [],
   "source": [
    "!cp ../src/stream/stream-base.cpp ../src/stream/stream-TODO.cpp"
   ]
  },
  {
   "cell_type": "markdown",
   "id": "5fef5240-1545-4bab-ae0e-8dd0a6bf8451",
   "metadata": {},
   "source": [
    "For CUDA or SYCL, you may optionally include the corresponding utility header.\n",
    "Set the compiler and its arguments for your chosen approach in the next cell."
   ]
  },
  {
   "cell_type": "code",
   "execution_count": null,
   "id": "32788495-7389-40b8-98fb-053d297b76e0",
   "metadata": {},
   "outputs": [],
   "source": [
    "!TODO -O3 -std=c++17 -o ../build/stream/stream-TODO ../src/stream/stream-TODO.cpp"
   ]
  },
  {
   "cell_type": "markdown",
   "id": "4a4468f1-0f1d-4833-8098-b4bb3a5a8fa4",
   "metadata": {},
   "source": [
    "Apply GPU parallelization, ensuring that your benchmark application produces correct results after each change.\n",
    "Can you approach the bandwidth limit of your GPU?"
   ]
  },
  {
   "cell_type": "markdown",
   "id": "0d90ddb6-0ee5-41da-9fc6-c436af90f110",
   "metadata": {},
   "source": [
    "## Level 2: 2D Stencil"
   ]
  },
  {
   "cell_type": "markdown",
   "id": "db0e3eba",
   "metadata": {},
   "source": [
    "Tackle a widely used benchmark: the 2D stencil application."
   ]
  },
  {
   "cell_type": "markdown",
   "id": "5a99ef8b-114f-48dd-8066-0e4019af718b",
   "metadata": {
    "tags": []
   },
   "source": [
    "The next application to accelerate with GPUs is a simple yet widely used benchmark: a 2D stencil application.\n",
    "This serves as a proxy for (matrix-free) matrix-vector multiplications, which are common in HPC applications."
   ]
  },
  {
   "cell_type": "markdown",
   "id": "9aaccc3e-bff7-4766-a9af-933cab38ef63",
   "metadata": {
    "tags": []
   },
   "source": [
    "Our baseline application solves a 2D finite difference discretization of the Laplace equation using Jacobi iterations.\n",
    "Among other things, it can be used to simulate heat distribution."
   ]
  },
  {
   "cell_type": "markdown",
   "id": "26e5d18d-cf85-4d39-82a0-27f35f7b02dd",
   "metadata": {
    "tags": []
   },
   "source": [
    "<img src=\"https://upload.wikimedia.org/wikipedia/commons/0/01/Heat.gif\" alt=\"heat equation\" width=\"50%\"/>"
   ]
  },
  {
   "cell_type": "markdown",
   "id": "87e60203-f43b-49a2-b345-a20dabb006a9",
   "metadata": {
    "tags": []
   },
   "source": [
    "The details are not crucial for this tutorial.\n",
    "Essentially, each point in a 2D grid is updated based on the values of its neighboring points.\n",
    "In this example, only the neighbors in the cardinal directions are used, forming a stencil pattern when visualized."
   ]
  },
  {
   "cell_type": "markdown",
   "id": "49686a7a-b380-4ba4-af13-8fa74d5539bc",
   "metadata": {},
   "source": [
    "As before, you can parameterize the application with command line arguments (see `parseCLA_2d` in [stencil-2d-util.h](../src/stencil-2d/stencil-2d-util.h)):\n",
    "* **nx, ny**: Grid dimensions, defining the total workload (`nx * ny`)\n",
    "* **nWarmUp**: Number of non-timed warm-up iterations\n",
    "* **nIt**: Number of timed iterations\n",
    "Basic diagnostic output and performance data are available via the `printStats` function in [util.h](../src/util.h)."
   ]
  },
  {
   "cell_type": "markdown",
   "id": "66632d21-68e8-44c1-a9bf-6064a368804c",
   "metadata": {},
   "source": [
    "Follow these steps as in the previous exercise:\n",
    "* Compile and run the serial CPU base version\n",
    "* Copy the code to a new file and optionally include additional headers\n",
    "* Set up the compilation\n",
    "* Port the application to GPU\n",
    "* Ensure the results remain correct (use the absolute value of the residual as an indicator)\n",
    "* Compare the achieved bandwidth with the stream benchmark's performance"
   ]
  },
  {
   "cell_type": "code",
   "execution_count": null,
   "id": "2aaa2e04-d01c-402c-bdd6-0fc56bc4270c",
   "metadata": {
    "tags": []
   },
   "outputs": [],
   "source": [
    "!g++ -O3 -march=native -std=c++17 -Wall -o ../build/stencil-2d/stencil-2d-base ../src/stencil-2d/stencil-2d-base.cpp"
   ]
  },
  {
   "cell_type": "code",
   "execution_count": null,
   "id": "fcf10031-7a19-436b-b6d5-9b8c36410315",
   "metadata": {
    "tags": []
   },
   "outputs": [],
   "source": [
    "!../build/stencil-2d/stencil-2d-base 8192 8192 2 16"
   ]
  },
  {
   "cell_type": "code",
   "execution_count": null,
   "id": "8995336f-583c-44ec-a3ce-ac97debb24ed",
   "metadata": {},
   "outputs": [],
   "source": [
    "!cp ../src/stencil-2d/stencil-2d-base.cpp ../src/stencil-2d/stencil-2d-TODO.cpp"
   ]
  },
  {
   "cell_type": "markdown",
   "id": "b3c43e38-3daf-496c-80f1-e38c6f7feade",
   "metadata": {},
   "source": [
    "For CUDA or SYCL, you may optionally include the corresponding utility header.\n",
    "Set the compiler and its arguments for your chosen approach in the next cell."
   ]
  },
  {
   "cell_type": "code",
   "execution_count": null,
   "id": "19fb2400-0bed-4f49-a623-151a3b957ca1",
   "metadata": {},
   "outputs": [],
   "source": [
    "!TODO -O3 -std=c++17 -o ../build/stencil-2d/stencil-2d-TODO ../src/stencil-2d/stencil-2d-TODO.cpp"
   ]
  },
  {
   "cell_type": "markdown",
   "id": "99fb6e63-79b5-4307-98ec-efa1aa1b184d",
   "metadata": {},
   "source": [
    "Apply GPU parallelization, ensuring that your benchmark application produces correct results after each change.\n",
    "Can you approach the bandwidth limit of your GPU?"
   ]
  },
  {
   "cell_type": "code",
   "execution_count": null,
   "id": "2740fd5d-3e1d-4e9e-9630-3f47474f2a19",
   "metadata": {
    "tags": []
   },
   "outputs": [],
   "source": [
    "!../build/stencil-2d/stencil-2d-TODO 8192 8192 2 16"
   ]
  },
  {
   "cell_type": "markdown",
   "id": "a9706705-4078-4740-8e3e-f0038ba83f5a",
   "metadata": {},
   "source": [
    "## Level 3: Conjugate Gradient"
   ]
  },
  {
   "cell_type": "markdown",
   "id": "2ac2ad24",
   "metadata": {},
   "source": [
    "Extend the previous numerical solver using the conjugate gradient method."
   ]
  },
  {
   "cell_type": "markdown",
   "id": "f7f19f28-46a9-46f2-a03b-9f00ab02b4c8",
   "metadata": {},
   "source": [
    "The final exercise and performance challenge is to extend the previous 'numerical solver' (implemented with matrix-free Jacobi iterations) using the conjugate gradient method.\n",
    "While a deep understanding of the algorithm is not required, you can learn more from this [Wikipedia article](https://en.wikipedia.org/wiki/Conjugate_gradient_method#The_resulting_algorithm).\n",
    "\n",
    "The linked page outlines the algorithm, which builds on the following building blocks:\n",
    "* Matrix-vector products (i.e., stencil applications)\n",
    "* Other vector operations such as scaling and addition (similar to the stream pattern)\n",
    "* Vector dot products (i.e., reductions)\n",
    "\n",
    "The algorithm involves multiple steps.\n",
    "Start by carefully reviewing the serial base version [cg-base.cpp](../src/cg/cg-base.cpp) and copying it to a new file.\n"
   ]
  },
  {
   "cell_type": "code",
   "execution_count": null,
   "id": "4543afa9-7b51-44a5-954c-afc646537f29",
   "metadata": {
    "tags": []
   },
   "outputs": [],
   "source": [
    "!g++ -O3 -march=native -std=c++17 -Wall -o ../build/cg/cg-base ../src/cg/cg-base.cpp"
   ]
  },
  {
   "cell_type": "code",
   "execution_count": null,
   "id": "3d5821c9-eadd-44b4-9d86-3fe0ae511cf3",
   "metadata": {
    "tags": []
   },
   "outputs": [],
   "source": [
    "!../build/cg/cg-base 8192 8192 2 16"
   ]
  },
  {
   "cell_type": "code",
   "execution_count": null,
   "id": "c3794d4f-23fd-4fad-bced-e49c12c688dd",
   "metadata": {},
   "outputs": [],
   "source": [
    "!cp ../src/cg/cg-base.cpp ../src/cg/cg-TODO.cpp"
   ]
  },
  {
   "cell_type": "markdown",
   "id": "7de9467b-5500-489f-a26e-5b7113125c93",
   "metadata": {},
   "source": [
    "For CUDA or SYCL, you may optionally include the corresponding utility header.\n",
    "Set the compiler and its arguments for your chosen approach in the next cell."
   ]
  },
  {
   "cell_type": "code",
   "execution_count": null,
   "id": "2b8fd862-9ac2-46e9-af67-29dbb7330557",
   "metadata": {},
   "outputs": [],
   "source": [
    "!TODO -O3 -std=c++17 -o ../build/cg/cg-TODO ../src/cg/cg-TODO.cpp"
   ]
  },
  {
   "cell_type": "markdown",
   "id": "b0e9d9f7-3df8-4998-aa5e-b2cc5bb47e26",
   "metadata": {},
   "source": [
    "Apply GPU parallelization, ensuring that your benchmark application produces correct results after each change.\n",
    "If you progress quickly, also consider employing optimizations such as kernel fusion to further improve performance."
   ]
  },
  {
   "cell_type": "code",
   "execution_count": null,
   "id": "45a27d93-3f34-4391-b964-d52936b30bfd",
   "metadata": {
    "tags": []
   },
   "outputs": [],
   "source": [
    "!../build/cg/cg-TODO 8192 8192 2 256"
   ]
  },
  {
   "cell_type": "markdown",
   "id": "cd4ce15b",
   "metadata": {},
   "source": [
    "Once you achieve satisfactory performance, publish your results (execution time for **256 iterations** in ms) on the scoreboard.\n",
    "The link to the scoreboard will be provided during the workshop."
   ]
  }
 ],
 "metadata": {
  "kernelspec": {
   "display_name": "Python 3 (ipykernel)",
   "language": "python",
   "name": "python3"
  },
  "language_info": {
   "codemirror_mode": {
    "name": "ipython",
    "version": 3
   },
   "file_extension": ".py",
   "mimetype": "text/x-python",
   "name": "python",
   "nbconvert_exporter": "python",
   "pygments_lexer": "ipython3",
   "version": "3.13.3"
  }
 },
 "nbformat": 4,
 "nbformat_minor": 5
}
