{
 "cells": [
  {
   "cell_type": "markdown",
   "id": "2351031b-a32a-488a-83b6-e74ad8a53788",
   "metadata": {},
   "source": [
    "# Data Handling "
   ]
  },
  {
   "cell_type": "markdown",
   "id": "0fcb087b-3095-4fe5-a9c5-dc830048f4c1",
   "metadata": {},
   "source": [
    "As described in the introduction, data organization on heterogeneous systems requires strategies for:\n",
    "* Allocating and deallocating memory on the host and device (explicit memory, EM), _or_\n",
    "* Allocating and deallocating memory in a unified virtual address space (managed memory, MM),\n",
    "as well as for\n",
    "* Copying data (EM) _or_ migrating data (MM) between host and device."
   ]
  },
  {
   "cell_type": "markdown",
   "id": "496d2526-2261-455a-ac2d-56ae804ff630",
   "metadata": {},
   "source": [
    "The following sections summarize how each approach addresses these requirements."
   ]
  },
  {
   "cell_type": "markdown",
   "id": "a34fc090-459c-4d80-a1b4-6d92dff9e863",
   "metadata": {
    "jp-MarkdownHeadingCollapsed": true,
    "tags": []
   },
   "source": [
    "## CUDA / HIP"
   ]
  },
  {
   "cell_type": "markdown",
   "id": "6ff22699-2afa-4762-bdc1-1f641ace4e3c",
   "metadata": {},
   "source": [
    "CUDA and HIP mainly use C-style pointers.\n",
    "Where not noted otherwise, HIP API functions are identical to their CUDA counterparts with the exception of being prefixed with `hip` instead of `cuda`."
   ]
  },
  {
   "cell_type": "markdown",
   "id": "cda565ca-f8ab-4909-936b-fe8492cd05f5",
   "metadata": {
    "tags": []
   },
   "source": [
    "### EM"
   ]
  },
  {
   "cell_type": "markdown",
   "id": "9fc171b4-d308-41c2-9334-48b768b74c62",
   "metadata": {},
   "source": [
    "A frequently used pattern is having two separate pointers for host and device allocations, which share the same *data layout*.\n",
    "To make this intent clear to code readers, often the same variable name is used but prefixed with a `d_` for the device version.\n",
    "An additional prefixing with `h_` for host versions can be even more verbose, but is less often used in practice."
   ]
  },
  {
   "cell_type": "markdown",
   "id": "ae987003-d80c-4f2f-9331-0189220c2005",
   "metadata": {},
   "source": [
    "```cpp\n",
    "double *data;                  // host allocation\n",
    "cudaMallocHost((void **)&data, sizeof(double) * nx);        // HIP uses hipHostMalloc\n",
    "\n",
    "double *d_data;                // device allocation    \n",
    "cudaMalloc((void **)&d_data, sizeof(double) * nx);\n",
    "\n",
    "/* ... */\n",
    "\n",
    "cudaFree(d_data);              // device de-allocation\n",
    "\n",
    "cudaFreeHost(data);            // host de-allocation        // HIP uses hipHostFree\n",
    "```"
   ]
  },
  {
   "cell_type": "markdown",
   "id": "e4037b81-60d2-4e42-8d25-f2f17810336b",
   "metadata": {},
   "source": [
    "Data transfer is performed with `cudaMemcpy(target, source, bytesToTransfer, direction)`, for example:"
   ]
  },
  {
   "cell_type": "markdown",
   "id": "6a064ed0-2baa-4b46-8bd8-0e5ee0d981bc",
   "metadata": {},
   "source": [
    "```cpp\n",
    "cudaMemcpy(d_data, data, sizeof(double) * nx, cudaMemcpyHostToDevice);\n",
    "```"
   ]
  },
  {
   "cell_type": "markdown",
   "id": "5a8c224f-ca23-4418-94b0-bccf33192ccc",
   "metadata": {},
   "source": [
    "### MM"
   ]
  },
  {
   "cell_type": "markdown",
   "id": "91f44d9d-d5f2-461e-9092-8e7815c38b14",
   "metadata": {},
   "source": [
    "```cpp\n",
    "double *data;                  // unified allocation\n",
    "cudaMallocManaged((void **)&data, sizeof(double) * nx);\n",
    "\n",
    "/* ... */\n",
    "\n",
    "cudaFree(data);                // unified de-allocation\n",
    "```"
   ]
  },
  {
   "cell_type": "markdown",
   "id": "760ab8e1-79d2-4773-a550-ed144752841e",
   "metadata": {},
   "source": [
    "Migration of data structures is implicit, but can be triggered explicitly to optimize performance."
   ]
  },
  {
   "cell_type": "markdown",
   "id": "ac9d2316-4106-4587-9ff4-00766d5ce76c",
   "metadata": {},
   "source": [
    "```cpp\n",
    "cudaMemPrefetchAsync(data, sizeof(double) * nx, 0 /* deviceId */);   // host to device\n",
    "cudaMemPrefetchAsync(data, sizeof(double) * nx, cudaCpuDeviceId);    // device to host\n",
    "```"
   ]
  },
  {
   "cell_type": "markdown",
   "id": "153dd484-be75-4acd-9ea2-e4f5546e5fcb",
   "metadata": {
    "jp-MarkdownHeadingCollapsed": true,
    "tags": []
   },
   "source": [
    "## Thrust"
   ]
  },
  {
   "cell_type": "markdown",
   "id": "f53f93f2-24dd-4b7f-86e7-0cf8d582a9fb",
   "metadata": {},
   "source": [
    "Thrust provides GPU-aware C++ containers as alternatives to raw pointers.\n",
    "Like thrust's algorithms, they closely mirroring the STL API."
   ]
  },
  {
   "cell_type": "markdown",
   "id": "70c8497a-5503-421b-903e-298adaea378c",
   "metadata": {},
   "source": [
    "### EM"
   ]
  },
  {
   "cell_type": "markdown",
   "id": "9bbd5aef-1e09-43fb-b2ac-2ad601ebe25e",
   "metadata": {},
   "source": [
    "Host and device data can be allocated similarly to `std::vector`.\n",
    "\n",
    "```cpp\n",
    "thrust::host_vector<double> data(nx);\n",
    "thrust::device_vector<double> d_data(nx);\n",
    "```\n",
    "\n",
    "De-allocation is done implicitly when the destructor of the container is called.\n",
    "\n",
    "Copying data between host and device is available via copy functions.\n",
    "\n",
    "```cpp\n",
    "thrust::copy(data.begin(), data.end(),\n",
    "             d_data.begin());\n",
    "```"
   ]
  },
  {
   "cell_type": "markdown",
   "id": "0f11c4a5-a070-47d0-8d3b-38a1839a1a4b",
   "metadata": {},
   "source": [
    "### MM"
   ]
  },
  {
   "cell_type": "markdown",
   "id": "edd569af-6fa7-407b-9be6-850842a9e4de",
   "metadata": {},
   "source": [
    "Thrust also offers containers for managed memory allocations.\n",
    "\n",
    "```cpp\n",
    "thrust::universal_vector<double> data(nx);\n",
    "```"
   ]
  },
  {
   "cell_type": "markdown",
   "id": "ffe0eebc-53aa-4113-9799-2907856b524d",
   "metadata": {
    "jp-MarkdownHeadingCollapsed": true,
    "tags": []
   },
   "source": [
    "## SYCL"
   ]
  },
  {
   "cell_type": "markdown",
   "id": "626f70e4-70c7-489a-ab12-73e11fc82fe1",
   "metadata": {},
   "source": [
    "SYCL supports two primary memory management models:\n",
    "* A CUDA/HIP-like approach supporting both EM and MM\n",
    "* SYCL buffers, which enable automatic dependency analysis"
   ]
  },
  {
   "cell_type": "markdown",
   "id": "1a2685ae-0028-4d4d-9722-3a29deeb095e",
   "metadata": {},
   "source": [
    "All examples assume an initialized SYCL queue `q`."
   ]
  },
  {
   "cell_type": "markdown",
   "id": "3e991442-6f56-4bb3-964d-123d507e981d",
   "metadata": {},
   "source": [
    "### EM"
   ]
  },
  {
   "cell_type": "markdown",
   "id": "46f7a287-1188-44b8-ae65-854b619edaad",
   "metadata": {},
   "source": [
    "```cpp\n",
    "double *data;                  // host allocation\n",
    "data = sycl::malloc_host<double>(nx, q);\n",
    "\n",
    "double *d_data;                // device allocation    \n",
    "d_data = sycl::malloc_device<double>(nx, q);\n",
    "\n",
    "/* ... */\n",
    "\n",
    "sycl::free(d_data, q);         // device de-allocation\n",
    "\n",
    "sycl::free(data, q);           // host de-allocation\n",
    "```"
   ]
  },
  {
   "cell_type": "markdown",
   "id": "14b785ea-0951-4dfe-9b2e-5af86d4ef203",
   "metadata": {},
   "source": [
    "```cpp\n",
    "q.memcpy(d_data, data, sizeof(double) * nx);\n",
    "```"
   ]
  },
  {
   "cell_type": "markdown",
   "id": "2f06bf2c-c01c-40dc-9e0d-ca6493e09d9a",
   "metadata": {},
   "source": [
    "### MM"
   ]
  },
  {
   "cell_type": "markdown",
   "id": "94c8697c-d1ec-4fef-9ed6-04395b7e083e",
   "metadata": {},
   "source": [
    "```cpp\n",
    "double *data;                  // unified allocation\n",
    "data = sycl::malloc_shared<double>(nx, q);\n",
    "\n",
    "/* ... */\n",
    "\n",
    "sycl::free(data, q);           // unified de-allocation\n",
    "```"
   ]
  },
  {
   "cell_type": "markdown",
   "id": "bd225ac8-4075-4513-a112-ad2dfb03cf48",
   "metadata": {},
   "source": [
    "Pre-fetching *to the device* can be performed as an additional optimization.\n",
    "\n",
    "```cpp\n",
    "q.prefetch(data, nx * sizeof(double));\n",
    "```"
   ]
  },
  {
   "cell_type": "markdown",
   "id": "bf1b5605-67b5-4996-9e6f-031ea4a0062d",
   "metadata": {},
   "source": [
    "### Buffer"
   ]
  },
  {
   "cell_type": "markdown",
   "id": "78a9c44f-723f-4c92-998e-3d5da0bea14d",
   "metadata": {},
   "source": [
    "```cpp\n",
    "double *data;                  // host allocation\n",
    "data = new double[nx];\n",
    "\n",
    "{\n",
    "    // device buffer allocation\n",
    "    sycl::buffer b_data(data, sycl::range(nx));\n",
    "} // implicit device to host -H copy of destroyed buffers\n",
    "```"
   ]
  },
  {
   "cell_type": "markdown",
   "id": "545c6624-0c7b-4305-aab7-9d72ca9d53ac",
   "metadata": {
    "jp-MarkdownHeadingCollapsed": true,
    "tags": []
   },
   "source": [
    "## Kokkos"
   ]
  },
  {
   "cell_type": "markdown",
   "id": "f62d038d-3b1c-44a2-85cf-6b2fd9966fc4",
   "metadata": {},
   "source": [
    "Kokkos builds on allocations in memory spaces.\n",
    "Depending on the configuration during compilation, this defaults to device allocations (i.e. if GPU support is enabled).\n",
    "Host allocations can then be created as mirror views."
   ]
  },
  {
   "cell_type": "markdown",
   "id": "50414cab-54b0-4b70-bf12-e6e62b949d8a",
   "metadata": {},
   "source": [
    "```cpp\n",
    "{\n",
    "    // device allocation\n",
    "    Kokkos::View<double *> data(\"data\", nx);\n",
    "\n",
    "    // host allocation\n",
    "    auto h_data = Kokkos::create_mirror_view(data);\n",
    "} // implicit de-allocation\n",
    "```"
   ]
  },
  {
   "cell_type": "markdown",
   "id": "752e4ebf-cb33-45bb-b0ef-d76800fc57bb",
   "metadata": {},
   "source": [
    "```cpp\n",
    "Kokkos::deep_copy(data, h_data);\n",
    "```"
   ]
  },
  {
   "cell_type": "markdown",
   "id": "7372ca54-36f7-4921-aef9-e2ca7b8fc3c9",
   "metadata": {
    "jp-MarkdownHeadingCollapsed": true,
    "tags": []
   },
   "source": [
    "## OpenMP"
   ]
  },
  {
   "cell_type": "markdown",
   "id": "ac08006a-724b-49ea-b4d0-28c17f49a807",
   "metadata": {},
   "source": [
    "OpenMP handles data staging, including (de-)allocation and transfers, via structured *target data* regions.\n",
    "Note that the data pointer has been renamed to `field` to avoid confusion."
   ]
  },
  {
   "cell_type": "markdown",
   "id": "4f7b8f58-2fc8-4332-a863-42b7fb839dd7",
   "metadata": {},
   "source": [
    "```cpp\n",
    "auto field = new double[nx];   // host allocation\n",
    "\n",
    "#pragma omp target data map(tofrom : field[0:nx])\n",
    "{ // device allocation and H2D transfer\n",
    "\n",
    "    /* ... */\n",
    "\n",
    "} // device de-allocation and D2H transfer\n",
    "\n",
    "delete[] field;                // host de-allocation\n",
    "```"
   ]
  },
  {
   "cell_type": "markdown",
   "id": "84b26bc0-0870-4d05-8ce4-90c6f6ee3154",
   "metadata": {},
   "source": [
    "For improved flexibility, unstructured primitives are also available."
   ]
  },
  {
   "cell_type": "markdown",
   "id": "1d1e116e-5ec1-439e-8244-507edc0d59d5",
   "metadata": {},
   "source": [
    "```cpp\n",
    "#pragma omp target enter data map(to   : field[0:nx])\n",
    "\n",
    "/* ... */\n",
    "\n",
    "#pragma omp target exit  data map(from : field[0:nx])\n",
    "```"
   ]
  },
  {
   "cell_type": "markdown",
   "id": "cb3c9dac-6d9b-4d13-a91b-d1aac6537010",
   "metadata": {},
   "source": [
    "With managed memory, target data regions are unnecessary."
   ]
  },
  {
   "cell_type": "markdown",
   "id": "a3a8add7-c95d-440a-938b-d02092f1467e",
   "metadata": {
    "jp-MarkdownHeadingCollapsed": true,
    "tags": []
   },
   "source": [
    "## OpenACC"
   ]
  },
  {
   "cell_type": "markdown",
   "id": "2627f9b6-0fb9-4658-9e71-04943da54e62",
   "metadata": {},
   "source": [
    "OpenACC follows the same principles as OpenMP for data management, but does so with a slightly different syntax."
   ]
  },
  {
   "cell_type": "markdown",
   "id": "87606345-d81e-447a-8d65-6f006025b0da",
   "metadata": {},
   "source": [
    "```cpp\n",
    "#pragma acc enter data copyin (field[0:nx])\n",
    "#pragma acc exit  data copyout(field[0:nx])\n",
    "```"
   ]
  },
  {
   "cell_type": "markdown",
   "id": "cbc94dd0-5801-4cc4-af19-7371f0c5dcaa",
   "metadata": {
    "jp-MarkdownHeadingCollapsed": true,
    "tags": []
   },
   "source": [
    "## Next Step"
   ]
  },
  {
   "cell_type": "markdown",
   "id": "d6bfc5d9",
   "metadata": {},
   "source": [
    "Proceed to the [parallel computation](./parallel-computation.ipynb) notebook."
   ]
  }
 ],
 "metadata": {
  "kernelspec": {
   "display_name": "Python 3 (ipykernel)",
   "language": "python",
   "name": "python3"
  },
  "language_info": {
   "codemirror_mode": {
    "name": "ipython",
    "version": 3
   },
   "file_extension": ".py",
   "mimetype": "text/x-python",
   "name": "python",
   "nbconvert_exporter": "python",
   "pygments_lexer": "ipython3",
   "version": "3.13.5"
  }
 },
 "nbformat": 4,
 "nbformat_minor": 5
}
